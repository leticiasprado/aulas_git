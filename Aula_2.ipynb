{
  "cells": [
    {
      "cell_type": "code",
      "execution_count": 1,
      "metadata": {
        "colab": {
          "base_uri": "https://localhost:8080/"
        },
        "id": "kDygqiyD0UJM",
        "outputId": "b31e3e66-2bef-4ad5-9305-f326302938b3"
      },
      "outputs": [
        {
          "name": "stdout",
          "output_type": "stream",
          "text": [
            "Seu IMC é:  0.0023588329220496445\n"
          ]
        }
      ],
      "source": [
        "peso = float(input(\"Digite seu peso em kg: \"))\n",
        "altura = float(input(\"Digite sua altura em metros: \"))\n",
        "\n",
        "imc = peso / (altura ** 2)\n",
        "\n",
        "print (\"Seu IMC é: \", imc)"
      ]
    },
    {
      "cell_type": "code",
      "execution_count": 2,
      "metadata": {
        "colab": {
          "base_uri": "https://localhost:8080/"
        },
        "id": "s2uGVASX0cy8",
        "outputId": "f7c1465b-dd35-47b8-8acb-bcee54941af1"
      },
      "outputs": [
        {
          "name": "stdout",
          "output_type": "stream",
          "text": [
            "[1, 2, 3, 4, 5]\n"
          ]
        }
      ],
      "source": [
        "lista = []\n",
        "\n",
        "num1 = int(input(\"Digite o 1 numero: \"))\n",
        "num2 = int(input(\"Digite o 2 numero: \"))\n",
        "num3 = int(input(\"Digite o 3 numero: \"))\n",
        "num4 = int(input(\"Digite o 4 numero: \"))\n",
        "num5 = int(input(\"Digite o 5 numero: \"))\n",
        "\n",
        "lista.append(num1)\n",
        "lista.append(num2)\n",
        "lista.append(num3)\n",
        "lista.append(num4)\n",
        "lista.append(num5)\n",
        "\n",
        "print(lista)\n"
      ]
    },
    {
      "cell_type": "code",
      "execution_count": 3,
      "metadata": {
        "colab": {
          "base_uri": "https://localhost:8080/"
        },
        "id": "MoiWffit0qyT",
        "outputId": "cfb559a8-2871-4c71-f896-8a2f4321befe"
      },
      "outputs": [
        {
          "data": {
            "text/plain": [
              "['lua', ' ben', ' dimas', ' lilika']"
            ]
          },
          "execution_count": 3,
          "metadata": {},
          "output_type": "execute_result"
        }
      ],
      "source": [
        "lista_nomes = input(\"Digite uma lista de nomes separados por vírgula: \")\n",
        "lista_nomes.split(',')"
      ]
    }
  ],
  "metadata": {
    "colab": {
      "provenance": []
    },
    "kernelspec": {
      "display_name": "Python 3",
      "name": "python3"
    },
    "language_info": {
      "codemirror_mode": {
        "name": "ipython",
        "version": 3
      },
      "file_extension": ".py",
      "mimetype": "text/x-python",
      "name": "python",
      "nbconvert_exporter": "python",
      "pygments_lexer": "ipython3",
      "version": "3.11.8"
    }
  },
  "nbformat": 4,
  "nbformat_minor": 0
}
