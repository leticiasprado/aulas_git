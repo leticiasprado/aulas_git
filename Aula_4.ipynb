{
  "cells": [
    {
      "cell_type": "code",
      "execution_count": 3,
      "metadata": {
        "colab": {
          "base_uri": "https://localhost:8080/"
        },
        "id": "wNGo2AQIvXKJ",
        "outputId": "784178ba-a51b-4c21-915e-bbc6fbf1a8e5"
      },
      "outputs": [
        {
          "name": "stdout",
          "output_type": "stream",
          "text": [
            "print A: 200\n"
          ]
        }
      ],
      "source": [
        "x = 200\n",
        "print (\"print A:\",x)"
      ]
    },
    {
      "cell_type": "markdown",
      "metadata": {
        "id": "WwDYJ4vd--0x"
      },
      "source": [
        "AULA 4\n"
      ]
    },
    {
      "cell_type": "markdown",
      "metadata": {
        "id": "Clhh_KbG_CV_"
      },
      "source": [
        "EX 1"
      ]
    },
    {
      "cell_type": "code",
      "execution_count": 4,
      "metadata": {
        "colab": {
          "base_uri": "https://localhost:8080/"
        },
        "id": "bdMO69P-_DXJ",
        "outputId": "a4e4f11b-0453-4772-b1ef-14e47b2dfd19"
      },
      "outputs": [
        {
          "data": {
            "text/plain": [
              "True"
            ]
          },
          "execution_count": 4,
          "metadata": {},
          "output_type": "execute_result"
        }
      ],
      "source": [
        "eh_multiplo_dez = lambda m: m % 10 == 0\n",
        "eh_multiplo_dez (100)"
      ]
    },
    {
      "cell_type": "markdown",
      "metadata": {
        "id": "4jubPvTZAF2U"
      },
      "source": [
        "EX 3"
      ]
    },
    {
      "cell_type": "code",
      "execution_count": 12,
      "metadata": {
        "colab": {
          "base_uri": "https://localhost:8080/"
        },
        "id": "Bdko7Xd7AIVo",
        "outputId": "d6d5367c-15da-4ac8-81e3-c60b9c58d7a9"
      },
      "outputs": [
        {
          "name": "stdout",
          "output_type": "stream",
          "text": [
            "['João', 'Maria', 'Ana', 'Ana']\n"
          ]
        }
      ],
      "source": [
        "def primeiro_nome(nome_completo):\n",
        "    nome_split = nome_completo.split()\n",
        "    return nome_split[0]\n",
        "\n",
        "nomes = ['João Carlos', 'Maria Eduarda', 'Ana Rute', 'Ana Clara']\n",
        "so_primeiro_nome = list(map(primeiro_nome, nomes))\n",
        "\n",
        "print(so_primeiro_nome) "
      ]
    },
    {
      "cell_type": "markdown",
      "metadata": {
        "id": "1wrFdptOBrnI"
      },
      "source": [
        "EX 4"
      ]
    },
    {
      "cell_type": "code",
      "execution_count": 1,
      "metadata": {
        "colab": {
          "base_uri": "https://localhost:8080/"
        },
        "id": "OmqcYBFdBs2G",
        "outputId": "006804ef-5e57-41aa-9983-a3bcf785814f"
      },
      "outputs": [
        {
          "name": "stdout",
          "output_type": "stream",
          "text": [
            "O dia da semana para a data 30/03/1992 é Monday\n"
          ]
        }
      ],
      "source": [
        "from datetime import datetime, date, timedelta\n",
        "\n",
        "def dia_da_semana(data):\n",
        "        data_x = datetime.strptime(data, '%d/%m/%Y')\n",
        "        nome_dia_semana = data_x.strftime('%A')\n",
        "\n",
        "        return nome_dia_semana\n",
        "\n",
        "data = input(\"Digite uma data nesse formato dd/mm/aaaa: \")\n",
        "resultado = dia_da_semana(data)\n",
        "print(f'O dia da semana para a data {data} é {resultado}')"
      ]
    },
    {
      "cell_type": "markdown",
      "metadata": {
        "id": "E7qREtCo-_MH"
      },
      "source": []
    },
    {
      "cell_type": "markdown",
      "metadata": {
        "id": "VfDc_nxd-_Q-"
      },
      "source": []
    }
  ],
  "metadata": {
    "colab": {
      "provenance": []
    },
    "kernelspec": {
      "display_name": "Python 3",
      "name": "python3"
    },
    "language_info": {
      "name": "python"
    }
  },
  "nbformat": 4,
  "nbformat_minor": 0
}
