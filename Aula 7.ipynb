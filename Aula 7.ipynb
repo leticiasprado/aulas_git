{
 "cells": [
  {
   "cell_type": "code",
   "execution_count": 13,
   "metadata": {},
   "outputs": [],
   "source": [
    "import pandas as pd\n",
    "import numpy as np\n"
   ]
  },
  {
   "cell_type": "markdown",
   "metadata": {},
   "source": [
    "1.Crie um array NumPy com 10 elementos inteiros aleatórios no intervalo [0, 100] e exiba os valores e o tipo de dado do array."
   ]
  },
  {
   "cell_type": "code",
   "execution_count": 16,
   "metadata": {},
   "outputs": [
    {
     "name": "stdout",
     "output_type": "stream",
     "text": [
      "[52 48 48 47 31 48  3 44 87 25]\n",
      "int32\n"
     ]
    }
   ],
   "source": [
    "arr = np.random.randint(0, 100, size=10)\n",
    "\n",
    "print(arr)\n",
    "print(arr.dtype)"
   ]
  },
  {
   "cell_type": "markdown",
   "metadata": {},
   "source": [
    "2. Crie uma matriz de 5x5 com valores aleatórios de [0,1) e encontre o valor mínimo, máximo e a média da matriz."
   ]
  },
  {
   "cell_type": "code",
   "execution_count": 17,
   "metadata": {},
   "outputs": [
    {
     "name": "stdout",
     "output_type": "stream",
     "text": [
      "Valor mínimo: 0.02200277313970289\n",
      "Valor máximo: 0.9773038123835797\n",
      "Média: 0.4932233750873919\n"
     ]
    }
   ],
   "source": [
    "import numpy as np\n",
    "\n",
    "mat = np.random.rand(5, 5)\n",
    "\n",
    "print(f\"Valor mínimo: {np.min(mat)}\")\n",
    "print(f\"Valor máximo: {np.max(mat)}\")\n",
    "print(f\"Média: {np.average(mat)}\")"
   ]
  },
  {
   "cell_type": "markdown",
   "metadata": {},
   "source": [
    "\n",
    "3. Crie um array com 10 elementos aleatórios no intervalo [0, 1]. Em seguida, crie um novo array com os elementos do primeiro array multiplicados por 10 e convertidos para inteiro."
   ]
  },
  {
   "cell_type": "code",
   "execution_count": 18,
   "metadata": {},
   "outputs": [
    {
     "name": "stdout",
     "output_type": "stream",
     "text": [
      "[0.18193024 0.96184428 0.93553625 0.68937106 0.97882442 0.64780672\n",
      " 0.34185668 0.09620264 0.31717586 0.16752801]\n",
      "[1 9 9 6 9 6 3 0 3 1]\n"
     ]
    }
   ],
   "source": [
    "import numpy as np\n",
    "\n",
    "arr = np.random.rand(10)\n",
    "\n",
    "arr_int = (arr * 10).astype(int)\n",
    "\n",
    "print(arr)\n",
    "print(arr_int)"
   ]
  },
  {
   "cell_type": "markdown",
   "metadata": {},
   "source": [
    "4. Crie um array de duas dimensões com shape (3, 3) e valores aleatórios inteiros no intervalo [0, 9]. Substitua todos os elementos da segunda linha por -1."
   ]
  },
  {
   "cell_type": "code",
   "execution_count": 19,
   "metadata": {},
   "outputs": [
    {
     "name": "stdout",
     "output_type": "stream",
     "text": [
      "[[ 3  7  0]\n",
      " [-1 -1 -1]\n",
      " [ 1  5  9]]\n"
     ]
    }
   ],
   "source": [
    "import numpy as np\n",
    "\n",
    "mat = np.random.randint(0, 10, (3, 3))\n",
    "\n",
    "mat[1, :] = -1\n",
    "\n",
    "print(mat)"
   ]
  },
  {
   "cell_type": "markdown",
   "metadata": {},
   "source": [
    "5. Crie um DataFrame com as seguintes informações:\n",
    " - Coluna \"fruta\": \"Banana\", \"Maça\", \"Pera\"\n",
    " - Coluna \"preco\": 7.90, 10.20, 11.80\n",
    " - Coluna \"quantidade\": 12, 3, 4"
   ]
  },
  {
   "cell_type": "code",
   "execution_count": 20,
   "metadata": {},
   "outputs": [
    {
     "data": {
      "text/html": [
       "<div>\n",
       "<style scoped>\n",
       "    .dataframe tbody tr th:only-of-type {\n",
       "        vertical-align: middle;\n",
       "    }\n",
       "\n",
       "    .dataframe tbody tr th {\n",
       "        vertical-align: top;\n",
       "    }\n",
       "\n",
       "    .dataframe thead th {\n",
       "        text-align: right;\n",
       "    }\n",
       "</style>\n",
       "<table border=\"1\" class=\"dataframe\">\n",
       "  <thead>\n",
       "    <tr style=\"text-align: right;\">\n",
       "      <th></th>\n",
       "      <th>fruta</th>\n",
       "      <th>preco</th>\n",
       "      <th>quantidade</th>\n",
       "    </tr>\n",
       "  </thead>\n",
       "  <tbody>\n",
       "    <tr>\n",
       "      <th>0</th>\n",
       "      <td>Banana</td>\n",
       "      <td>7.9</td>\n",
       "      <td>12</td>\n",
       "    </tr>\n",
       "    <tr>\n",
       "      <th>1</th>\n",
       "      <td>Maça</td>\n",
       "      <td>10.2</td>\n",
       "      <td>3</td>\n",
       "    </tr>\n",
       "    <tr>\n",
       "      <th>2</th>\n",
       "      <td>Pera</td>\n",
       "      <td>11.8</td>\n",
       "      <td>4</td>\n",
       "    </tr>\n",
       "  </tbody>\n",
       "</table>\n",
       "</div>"
      ],
      "text/plain": [
       "    fruta  preco  quantidade\n",
       "0  Banana    7.9          12\n",
       "1    Maça   10.2           3\n",
       "2    Pera   11.8           4"
      ]
     },
     "execution_count": 20,
     "metadata": {},
     "output_type": "execute_result"
    }
   ],
   "source": [
    "data = {\"fruta\": [\"Banana\", \"Maça\", \"Pera\"],\n",
    "        \"preco\": [7.90, 10.20, 11.80],\n",
    "        \"quantidade\": [12, 3, 4]}\n",
    "\n",
    "df = pd.DataFrame([[\"Banana\", 7.90, 12],\n",
    "                   [\"Maça\", 10.20, 3],\n",
    "                   [\"Pera\", 11.80, 4]],\n",
    "                   columns = ['fruta','preco','quantidade'])\n",
    "df"
   ]
  }
 ],
 "metadata": {
  "kernelspec": {
   "display_name": "Python 3",
   "language": "python",
   "name": "python3"
  },
  "language_info": {
   "codemirror_mode": {
    "name": "ipython",
    "version": 3
   },
   "file_extension": ".py",
   "mimetype": "text/x-python",
   "name": "python",
   "nbconvert_exporter": "python",
   "pygments_lexer": "ipython3",
   "version": "3.11.8"
  }
 },
 "nbformat": 4,
 "nbformat_minor": 2
}
